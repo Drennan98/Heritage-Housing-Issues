{
 "cells": [
  {
   "cell_type": "markdown",
   "metadata": {},
   "source": [
    "\n",
    "# Data Cleaning\n",
    "\n",
    "\n",
    "# Objectives \n",
    "\n",
    "\n",
    "- Improve data quality\n",
    "- Handle missing data \n",
    "\n",
    "\n",
    "## Inputs\n",
    "\n",
    "- outputs/datasets/datacollection/HousePrices.csv\n",
    "\n",
    "\n",
    "## Outputs\n",
    "\n",
    "- Train Set\n",
    "- Test Set\n",
    "\n",
    "\n",
    "## CRISP-DM \n",
    "\n",
    "\n",
    "\"Data Preparation\""
   ]
  },
  {
   "cell_type": "code",
   "execution_count": null,
   "metadata": {},
   "outputs": [],
   "source": [
    "import os\n",
    "current_dir = os.getcwd()\n",
    "current_dir"
   ]
  },
  {
   "cell_type": "code",
   "execution_count": null,
   "metadata": {},
   "outputs": [],
   "source": [
    "os.chdir(os.path.dirname(current_dir))\n",
    "print(\"You set a new current directory\")"
   ]
  },
  {
   "cell_type": "code",
   "execution_count": null,
   "metadata": {},
   "outputs": [],
   "source": [
    "current_dir = os.getcwd()\n",
    "current_dir"
   ]
  },
  {
   "cell_type": "code",
   "execution_count": null,
   "metadata": {},
   "outputs": [],
   "source": [
    "# Load data \n",
    "\n",
    "import pandas as pd\n",
    "df = pd.read_csv(\"outputs/datasets/datacollection/HousePrices.csv\")\n",
    "df.head(10)"
   ]
  },
  {
   "cell_type": "code",
   "execution_count": null,
   "metadata": {},
   "outputs": [],
   "source": [
    "# Variables with missing data. \n",
    "\n",
    "vars_with_missing_data = df.columns[df.isna().sum() > 0].to_list()\n",
    "vars_with_missing_data"
   ]
  },
  {
   "cell_type": "code",
   "execution_count": null,
   "metadata": {},
   "outputs": [],
   "source": [
    "df.loc[:, vars_with_missing_data].info()"
   ]
  },
  {
   "cell_type": "code",
   "execution_count": null,
   "metadata": {},
   "outputs": [],
   "source": [
    "# Code can be found in the Churnometer Data Cleaning workbook.\n",
    "from pandas_profiling import ProfileReport\n",
    "if vars_with_missing_data:\n",
    "    profile = ProfileReport(df=df[vars_with_missing_data], minimal=True)\n",
    "    profile.to_notebook_iframe()\n",
    "else:\n",
    "    print(\"There are no variables with missing data\")"
   ]
  },
  {
   "cell_type": "code",
   "execution_count": 14,
   "metadata": {},
   "outputs": [],
   "source": [
    "import numpy as np\n",
    "import matplotlib.pyplot as plt\n",
    "import seaborn as sns\n",
    "import ppscore as pps \n",
    "\n",
    "# Use inline plotting for Jupyter\n",
    "%matplotlib inline\n",
    "\n",
    "def plot_heatmap(matrix, threshold, figsize=(20, 12), font_size=8, cmap=\"viridis\", mask_upper=True):\n",
    "    if matrix.shape[1] > 1:\n",
    "        mask = np.zeros_like(matrix, dtype=bool)\n",
    "\n",
    "        if mask_upper:\n",
    "            mask[np.triu_indices_from(mask)] = True\n",
    "\n",
    "        mask[abs(matrix) < threshold] = True\n",
    "\n",
    "        plt.figure(figsize=figsize)\n",
    "        sns.heatmap(matrix, annot=True, mask=mask, cmap=cmap, annot_kws={\"size\": font_size},\n",
    "                    linewidths=0.5, linecolor=\"gray\")\n",
    "        plt.xticks(rotation=90)\n",
    "        plt.yticks(rotation=0)\n",
    "        plt.ylim(len(matrix.columns), 0)\n",
    "        plt.show()\n",
    "\n",
    "def compute_correlation_and_pps(df):\n",
    "    spearman_corr = df.corr(method=\"spearman\")\n",
    "    pearson_corr = df.corr(method=\"pearson\")\n",
    "\n",
    "    pps_matrix_raw = pps.matrix(df)\n",
    "    pps_matrix = pps_matrix_raw.pivot(index=\"y\", columns=\"x\", values=\"ppscore\")\n",
    "\n",
    "    pps_stats = pps_matrix_raw.query(\"ppscore < 1 \")[\"ppscore\"].describe()\n",
    "    print(\"PPS Summary Stats (for threshold selection):\\n\", pps_stats.round(3))\n",
    "\n",
    "    return pearson_corr, spearman_corr, pps_matrix\n",
    "\n",
    "def display_heatmaps(pearson_corr, spearman_corr, pps_matrix, corr_threshold, pps_threshold, figsize=(20,12), font_size=8):\n",
    "    print(\"Spearman Correlation Heatmap (Montonic relationships):\")\n",
    "    plot_heatmap(pearson_corr, corr_threshold, figsize, font_size, cmap=\"magma\")\n",
    "\n",
    "    print(\"Pearson Correlation Heatmap (Linear relationships):\")\n",
    "    plot_heatmap(pearson_corr, corr_threshold, figsize, font_size, cmap=\"coolwarm\")\n",
    "\n",
    "    print(\"Power Predictive Score (PPS) Heatmap:\")\n",
    "    plot_heatmap(pps_matrix, pps_threshold, figsize, font_size, cmap=\"rocket_r\", mask_upper=False)\n"
   ]
  },
  {
   "cell_type": "code",
   "execution_count": null,
   "metadata": {},
   "outputs": [],
   "source": [
    "df_corr_pearson, df_corr_spearman, pps_matrix = compute_correlation_and_pps(df)\n",
    "\n",
    "display_heatmaps(\n",
    "    pearson_corr=df_corr_pearson, \n",
    "    spearman_corr=df_corr_spearman, \n",
    "    pps_matrix=pps_matrix, \n",
    "    corr_threshold=0.4, \n",
    "    pps_threshold=0.2, \n",
    "    figsize=(12, 10), \n",
    "    font_size=10\n",
    ")\n"
   ]
  },
  {
   "cell_type": "markdown",
   "metadata": {},
   "source": [
    "## Data Cleaning\n",
    "\n",
    "### Function to create a DataFrame to hold missing data statistics. "
   ]
  },
  {
   "cell_type": "code",
   "execution_count": 16,
   "metadata": {},
   "outputs": [],
   "source": [
    "def evaluate_missing_data(df):\n",
    "    \"\"\"\n",
    "    Analyse variables with missing values\n",
    "    \"\"\"\n",
    "    missing_counts = df.isnull().sum()\n",
    "    missing_percentage = (missing_counts / df.shape[0] * 100).round(2)\n",
    "    \n",
    "\n",
    "    # Create a DataFrame to hold the missing data statistics. \n",
    "    missing_data_df = pd.DataFrame({\n",
    "        \"RowsWithMissingData\": missing_counts,\n",
    "        \"PercentageOfDataset\": missing_percentage,\n",
    "        \"DataType\": df.dtypes\n",
    "    })\n",
    "\n",
    "    # Filter to include only columns with missing data and sort.\n",
    "    missing_data_df = missing_data_df[missing_data_df[\"PercentageOfDataset\"] > 0]\n",
    "    missing_data_df = missing_data_df.sort_values(by=\"PercentageOfDataset\", ascending=False)\n",
    "\n",
    "    return missing_data_df"
   ]
  },
  {
   "cell_type": "code",
   "execution_count": null,
   "metadata": {},
   "outputs": [],
   "source": [
    "evaluate_missing_data(df)"
   ]
  },
  {
   "cell_type": "markdown",
   "metadata": {},
   "source": [
    "- \"EnclosedPorch\" and \"WoodDeckSF\" have the most missing values at well over 80% each. I would deem these variables almost obsolete as they don't offer much in the way of predcting house prices. "
   ]
  },
  {
   "cell_type": "code",
   "execution_count": 18,
   "metadata": {},
   "outputs": [],
   "source": [
    "import pandas as pd\n",
    "\n",
    "def plot_data_cleaning_effect(df_original, df_cleaned, variables_applied):\n",
    "    \"\"\"\n",
    "    Visualizes the effect of data cleaning on selected variables by comparing distributions \n",
    "    between the original and cleaned datasets.\n",
    "\n",
    "    Parameters:\n",
    "        df_original (pd.DataFrame): The original dataset.\n",
    "        df_cleaned (pd.DataFrame): The cleaned dataset.\n",
    "        variables_applied (list): The variables to plot.\n",
    "    \"\"\"\n",
    "\n",
    "    sns.set(style=\"whitegrid\")\n",
    "    \n",
    "    # Identify categorical variables in the original dataset\n",
    "    categorical_vars = df_original.select_dtypes(exclude=['number']).columns\n",
    "    \n",
    "    print(\"\\n=====================================================================================\")\n",
    "    print(f\"* Distribution Effect Analysis After Data Cleaning on the following variables:\")\n",
    "    print(f\"{variables_applied} \\n\\n\")\n",
    "    \n",
    "    for idx, var in enumerate(variables_applied, start=1):\n",
    "        plt.figure(figsize=(15, 5) if var in categorical_vars else (10, 5))\n",
    "        \n",
    "        # Plot categorical variables as bar plots\n",
    "        if var in categorical_vars:\n",
    "            df1 = pd.DataFrame({\"Type\": \"Original\", \"Value\": df_original[var]})\n",
    "            df2 = pd.DataFrame({\"Type\": \"Cleaned\", \"Value\": df_cleaned[var]})\n",
    "            combined_df = pd.concat([df1, df2])\n",
    "            \n",
    "            sns.countplot(data=combined_df, x=\"Value\", hue=\"Type\", palette=[\"#01BAEF\", \"#B80C09\"])\n",
    "            plt.xticks(rotation=90)\n",
    "        \n",
    "        # Plot numerical variables as histograms\n",
    "        else:\n",
    "            sns.histplot(df_original[var], color=\"#432371\", label=\"Original\", kde=True, element=\"step\")\n",
    "            sns.histplot(df_cleaned[var], color=\"#FAAE7B\", label=\"Cleaned\", kde=True, element=\"step\")\n",
    "        \n",
    "        plt.title(f\"Distribution Plot {idx}: {var}\")\n",
    "        plt.legend()\n",
    "        plt.show()"
   ]
  },
  {
   "cell_type": "markdown",
   "metadata": {},
   "source": [
    "## CategoricalVariableImputer\n",
    "\n",
    "\n",
    "- **Purpose:** Used to handle missing values in **categorical features (i.e, variables that take on a limited, discrete set of values).** \n",
    "\n",
    "\n",
    "## Arbitrary Number Imputer\n",
    "\n",
    "\n",
    "- **Purpose:** Used for both **numerical** and **categorical** variables to fill in missing values with an **arbitrary value** that doesn't naturally occur in data. \n",
    "\n",
    "\n",
    "## Mean/Median Imputer\n",
    "\n",
    "\n",
    "- **Purpose:** Used primarily for **numerical values** where missing values are replaced by the **mean** or **median** of the column."
   ]
  },
  {
   "cell_type": "code",
   "execution_count": null,
   "metadata": {},
   "outputs": [],
   "source": [
    "# Import the necessary imputation class\n",
    "from feature_engine.imputation import CategoricalImputer\n",
    "\n",
    "# Define the variables to impute\n",
    "variables_to_impute = [\"GarageFinish\", \"BsmtFinType1\"]\n",
    "\n",
    "# Instantiate the imputer with specific parameters\n",
    "imputer = CategoricalImputer(imputation_method=\"missing\", fill_value=\"Unf\", variables=variables_to_impute)\n",
    "\n",
    "# Apply the imputer to the DataFrame\n",
    "df_imputed = imputer.fit_transform(df)\n",
    "\n",
    "# Plot and compare the effect of imputation\n",
    "plot_data_cleaning_effect(df_original=df, \n",
    "                          df_cleaned=df_imputed, \n",
    "                          variables_applied=variables_to_impute)"
   ]
  },
  {
   "cell_type": "code",
   "execution_count": null,
   "metadata": {},
   "outputs": [],
   "source": [
    "# Import the necessary imputation class\n",
    "from feature_engine.imputation import ArbitraryNumberImputer\n",
    "\n",
    "# Define the variables to impute\n",
    "variables_to_impute = [\"2ndFlrSF\", \"EnclosedPorch\", \"MasVnrArea\", \"WoodDeckSF\"]\n",
    "\n",
    "# Instantiate the imputer with specific parameters\n",
    "imputer = ArbitraryNumberImputer(arbitrary_number=0, variables=variables_to_impute)\n",
    "\n",
    "# Apply the imputer to the DataFrame\n",
    "df_imputed = imputer.fit_transform(df)\n",
    "\n",
    "# Plot and compare the effect of imputation\n",
    "plot_data_cleaning_effect(df_original=df, \n",
    "                          df_cleaned=df_imputed, \n",
    "                          variables_applied=variables_to_impute)"
   ]
  },
  {
   "cell_type": "code",
   "execution_count": null,
   "metadata": {},
   "outputs": [],
   "source": [
    "# Import the necessary imputation class\n",
    "from feature_engine.imputation import MeanMedianImputer\n",
    "\n",
    "# Define the variables to impute\n",
    "variables_to_impute = [\"LotFrontage\", \"BedroomAbvGr\", \"GarageYrBlt\"]\n",
    "\n",
    "# Instantiate the imputer with specific parameters\n",
    "imputer = MeanMedianImputer(imputation_method=\"median\", variables=variables_to_impute)\n",
    "\n",
    "# Apply the imputer to the DataFrame\n",
    "df_imputed = imputer.fit_transform(df)\n",
    "\n",
    "# Plot and compare the effect of imputation\n",
    "plot_data_cleaning_effect(df_original=df, \n",
    "                          df_cleaned=df_imputed, \n",
    "                          variables_applied=variables_to_impute)"
   ]
  },
  {
   "cell_type": "code",
   "execution_count": null,
   "metadata": {},
   "outputs": [],
   "source": [
    "# Shuffle the DataFrame\n",
    "shuffled_df = df.sample(frac=1, random_state=0).reset_index(drop=True)\n",
    "\n",
    "# Calculate the index for splitting\n",
    "split_index = int(0.8 * len(shuffled_df))\n",
    "\n",
    "# Create the training and testing sets\n",
    "TrainSet = shuffled_df.iloc[:split_index]\n",
    "TestSet = shuffled_df.iloc[split_index:]\n",
    "\n",
    "# Get the SalePrice column\n",
    "y_train = TrainSet[\"SalePrice\"]\n",
    "y_test = TestSet[\"SalePrice\"]\n",
    "\n",
    "print(f\"TrainSet shape: {TrainSet.shape} \\nTestSet shape: {TestSet.shape}\")"
   ]
  },
  {
   "cell_type": "code",
   "execution_count": 23,
   "metadata": {},
   "outputs": [],
   "source": [
    "# Define variables to impute\n",
    "variables_to_impute =[\"GarageFinish\", \"BsmtFinType1\"]\n",
    "\n",
    "variables_method = variables_to_impute\n",
    "\n",
    "# Create a CategoricalImputer instance with specified parameters\n",
    "imputer = CategoricalImputer(\n",
    "    imputation_method = \"missing\",\n",
    "    fill_value = \"Unf\",\n",
    "    variables=variables_method\n",
    ")\n",
    "\n",
    "# Fit the imputer on training set\n",
    "imputer.fit(TrainSet)\n",
    "\n",
    "# Apply the transformation to both the training and test sets\n",
    "TrainSet = imputer.transform(TrainSet)\n",
    "TestSet = imputer.transform(TestSet)"
   ]
  },
  {
   "cell_type": "code",
   "execution_count": 25,
   "metadata": {},
   "outputs": [],
   "source": [
    "# Define variables to impute\n",
    "variables_to_impute =[\"2ndFlrSF\", \"EnclosedPorch\", \"MasVnrArea\", \"WoodDeckSF\"]\n",
    "\n",
    "variables_method = variables_to_impute\n",
    "\n",
    "# Create a ArbitraryNumberImputer instance with specified parameters\n",
    "imputer = ArbitraryNumberImputer(\n",
    "    arbitrary_number=0,\n",
    "    variables=variables_method\n",
    ")\n",
    "\n",
    "# Fit the imputer on training set\n",
    "imputer.fit(TrainSet)\n",
    "\n",
    "# Apply the transformation to both the training and test sets\n",
    "TrainSet = imputer.transform(TrainSet)\n",
    "TestSet = imputer.transform(TestSet)"
   ]
  },
  {
   "cell_type": "code",
   "execution_count": 27,
   "metadata": {},
   "outputs": [],
   "source": [
    "# Define variables to impute\n",
    "variables_to_impute =[\"LotFrontage\", \"BedroomAbvGr\", \"GarageYrBlt\"]\n",
    "\n",
    "variables_method = variables_to_impute\n",
    "\n",
    "# Create a MeanMedianImputer instance with specified parameters\n",
    "imputer = MeanMedianImputer(\n",
    "    imputation_method=\"median\",\n",
    "    variables=variables_method\n",
    ")\n",
    "\n",
    "# Fit the imputer on training set\n",
    "imputer.fit(TrainSet)\n",
    "\n",
    "# Apply the transformation to both the training and test sets\n",
    "TrainSet = imputer.transform(TrainSet)\n",
    "TestSet = imputer.transform(TestSet)"
   ]
  },
  {
   "cell_type": "code",
   "execution_count": 28,
   "metadata": {},
   "outputs": [],
   "source": [
    "import os\n",
    "try:\n",
    "  os.makedirs(name='outputs/datasets/cleaned') \n",
    "except Exception as e:\n",
    "  print(e)"
   ]
  },
  {
   "cell_type": "code",
   "execution_count": 29,
   "metadata": {},
   "outputs": [],
   "source": [
    "TrainSet.to_csv(\"outputs/datasets/cleaned/TrainSetCleaned.csv\", index=False)"
   ]
  },
  {
   "cell_type": "code",
   "execution_count": 30,
   "metadata": {},
   "outputs": [],
   "source": [
    "TestSet.to_csv(\"outputs/datasets/cleaned/TestSetCleaned.csv\", index=False)"
   ]
  }
 ],
 "metadata": {
  "kernelspec": {
   "display_name": "Python 3",
   "language": "python",
   "name": "python3"
  },
  "language_info": {
   "codemirror_mode": {
    "name": "ipython",
    "version": 3
   },
   "file_extension": ".py",
   "mimetype": "text/x-python",
   "name": "python",
   "nbconvert_exporter": "python",
   "pygments_lexer": "ipython3",
   "version": "3.8.18"
  }
 },
 "nbformat": 4,
 "nbformat_minor": 2
}
